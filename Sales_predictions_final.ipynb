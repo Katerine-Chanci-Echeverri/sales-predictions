{
  "nbformat": 4,
  "nbformat_minor": 0,
  "metadata": {
    "colab": {
      "provenance": [],
      "authorship_tag": "ABX9TyOPman3fg2/1xSTXDS8kJRH",
      "include_colab_link": true
    },
    "kernelspec": {
      "name": "python3",
      "display_name": "Python 3"
    },
    "language_info": {
      "name": "python"
    }
  },
  "cells": [
    {
      "cell_type": "markdown",
      "metadata": {
        "id": "view-in-github",
        "colab_type": "text"
      },
      "source": [
        "<a href=\"https://colab.research.google.com/github/Katerine-Chanci-Echeverri/sales-predictions/blob/main/Sales_predictions_final.ipynb\" target=\"_parent\"><img src=\"https://colab.research.google.com/assets/colab-badge.svg\" alt=\"Open In Colab\"/></a>"
      ]
    },
    {
      "cell_type": "markdown",
      "source": [
        "# **Proyecto 1 - Final**\n",
        "\n",
        "## **Datos personales**\n",
        "\n",
        "*   **Nombre:** Katerine Chancí Echeverri\n",
        "*   **ID Coding Dojo:** 80837\n",
        "*   Track: Machine Learning"
      ],
      "metadata": {
        "id": "N8ESbbzY1UVd"
      }
    },
    {
      "cell_type": "markdown",
      "source": [
        "## **Descripción del problema**\n",
        "\n",
        "Esta semana finalizarán el proyecto de predicción de ventas. El objetivo de esto es ayudar al distribuidor comprender las propiedades de los productos y los puntos de venta que desempeñan un papel crucial en la predicción de las ventas.\n",
        "\n",
        "\n",
        "\n",
        "1.   La primera tarea será crear un modelo de regresión lineal para predecir las ventas.\n",
        "\n",
        ">*   Creen un modelo de regresión lineal.\n",
        ">*   Evalúen el rendimiento del modelo basándose en $R^2$. \n",
        ">*   Evalúen el rendimiento del modelo basándose en RECM.\n",
        "\n",
        "2.   La segunda tarea será crear un modelo de árbol de regresión para predecir las ventas.\n",
        "\n",
        ">*   Creen un modelo simple de árbol de regresión.\n",
        ">*   Comparen el rendimiento del modelo basándose en $R^2$.\n",
        ">*   Comparen el rendimiento del modelo basándose en RECM.  \n",
        "\n",
        "3.   Acaban de intentar 2 diferentes modelos en el conjunto de datos. Deben determinar qué modelo implementar.\n",
        "\n",
        ">*   En general, ¿qué modelo recomiendan?\n",
        ">*   Justifiquen su recomendación.\n",
        "\n",
        "4.   Para concluir este proyecto, deben prepara una presentación ejecutiva (no técnica) sobre el proyecto."
      ],
      "metadata": {
        "id": "-YYM5ZhO1agE"
      }
    },
    {
      "cell_type": "markdown",
      "source": [
        "## **Descripción del conjunto de datos**\n",
        "\n",
        "| **Nombre de la variable** | **Descripción**                                                                                                       |\n",
        "|---------------------------|-----------------------------------------------------------------------------------------------------------------------|\n",
        "| Item_Identifier           | Identificación única del producto                                                                                     |\n",
        "| Item_Weight               | Peso del producto                                                                                                     |\n",
        "| Item_Fat_Content          | Si el producto es bajo en grasa o regular                                                                             |\n",
        "| Item_Visibility           | El porcentaje de la superficie total de exposición de todos los productos de una tienda asignada al producto concreto |\n",
        "| Item_Type                 | La categoría a la que el producto pertenece                                                                           |\n",
        "| Item_MRP                  | Precio máximo de venta al público (precio de catálogo) del producto                                                   |\n",
        "| Outlet_Identifier         | Identificación única de la tienda                                                                                     |\n",
        "| Outlet_Establishment_Year | El año cuando se estableció la tienda                                                                                 |\n",
        "| Outlet_Size               | El tamaño de la tienda con respecto a la superficie                                                                   |\n",
        "| Outlet_Location_Type      | El tipo de área donde está ubicada la tienda                                                                          |\n",
        "| Outlet_Type               | Si el marcado es un almacén o algún tipo de supermercado                                                              |\n",
        "| Item_Outlet_Sales         | Ventas del producto en la tienda particular Es la variable objetivo a predecir                                        |"
      ],
      "metadata": {
        "id": "wDIMohYW28_H"
      }
    },
    {
      "cell_type": "markdown",
      "source": [
        "## **Importar bibliotecas**"
      ],
      "metadata": {
        "id": "Xb5uDZkg3D6a"
      }
    },
    {
      "cell_type": "code",
      "execution_count": 1,
      "metadata": {
        "id": "ACoZ-qdp1Nx1"
      },
      "outputs": [],
      "source": [
        "from google.colab import drive\n",
        "import matplotlib.pyplot as plt\n",
        "import pandas as pd\n",
        "import numpy as np\n",
        "import seaborn as sns\n",
        "from sklearn.model_selection import train_test_split\n",
        "from sklearn.preprocessing import StandardScaler, OneHotEncoder\n",
        "from sklearn.impute import SimpleImputer\n",
        "from sklearn.compose import make_column_transformer, make_column_selector\n",
        "from sklearn.pipeline import make_pipeline\n",
        "from sklearn import set_config\n",
        "set_config(display='diagram')\n",
        "from sklearn.linear_model import LinearRegression\n",
        "from sklearn.metrics import r2_score\n",
        "from sklearn.metrics import mean_squared_error\n",
        "from sklearn.tree import DecisionTreeRegressor"
      ]
    },
    {
      "cell_type": "markdown",
      "source": [
        "## **Cargar los datos**"
      ],
      "metadata": {
        "id": "DcZaQLew3Lt0"
      }
    },
    {
      "cell_type": "code",
      "source": [
        "drive.mount(\"/content/drive\")\n",
        "sales_predictions = \"/content/drive/MyDrive/Colab Notebooks/Coding Dojo 🐉/Proyecto/sales_predictions.csv\"\n",
        "salesp_df = pd.read_csv(sales_predictions)\n",
        "salesp_df.head()"
      ],
      "metadata": {
        "colab": {
          "base_uri": "https://localhost:8080/",
          "height": 374
        },
        "id": "6XpATf7G3Ke2",
        "outputId": "82bcd0b9-829f-48e1-bf42-eb6d78598be0"
      },
      "execution_count": 2,
      "outputs": [
        {
          "output_type": "stream",
          "name": "stdout",
          "text": [
            "Drive already mounted at /content/drive; to attempt to forcibly remount, call drive.mount(\"/content/drive\", force_remount=True).\n"
          ]
        },
        {
          "output_type": "execute_result",
          "data": {
            "text/plain": [
              "  Item_Identifier  Item_Weight Item_Fat_Content  Item_Visibility  \\\n",
              "0           FDA15         9.30          Low Fat         0.016047   \n",
              "1           DRC01         5.92          Regular         0.019278   \n",
              "2           FDN15        17.50          Low Fat         0.016760   \n",
              "3           FDX07        19.20          Regular         0.000000   \n",
              "4           NCD19         8.93          Low Fat         0.000000   \n",
              "\n",
              "               Item_Type  Item_MRP Outlet_Identifier  \\\n",
              "0                  Dairy  249.8092            OUT049   \n",
              "1            Soft Drinks   48.2692            OUT018   \n",
              "2                   Meat  141.6180            OUT049   \n",
              "3  Fruits and Vegetables  182.0950            OUT010   \n",
              "4              Household   53.8614            OUT013   \n",
              "\n",
              "   Outlet_Establishment_Year Outlet_Size Outlet_Location_Type  \\\n",
              "0                       1999      Medium               Tier 1   \n",
              "1                       2009      Medium               Tier 3   \n",
              "2                       1999      Medium               Tier 1   \n",
              "3                       1998         NaN               Tier 3   \n",
              "4                       1987        High               Tier 3   \n",
              "\n",
              "         Outlet_Type  Item_Outlet_Sales  \n",
              "0  Supermarket Type1          3735.1380  \n",
              "1  Supermarket Type2           443.4228  \n",
              "2  Supermarket Type1          2097.2700  \n",
              "3      Grocery Store           732.3800  \n",
              "4  Supermarket Type1           994.7052  "
            ],
            "text/html": [
              "\n",
              "  <div id=\"df-02def80c-14bd-4522-bcc9-f30b0847154b\">\n",
              "    <div class=\"colab-df-container\">\n",
              "      <div>\n",
              "<style scoped>\n",
              "    .dataframe tbody tr th:only-of-type {\n",
              "        vertical-align: middle;\n",
              "    }\n",
              "\n",
              "    .dataframe tbody tr th {\n",
              "        vertical-align: top;\n",
              "    }\n",
              "\n",
              "    .dataframe thead th {\n",
              "        text-align: right;\n",
              "    }\n",
              "</style>\n",
              "<table border=\"1\" class=\"dataframe\">\n",
              "  <thead>\n",
              "    <tr style=\"text-align: right;\">\n",
              "      <th></th>\n",
              "      <th>Item_Identifier</th>\n",
              "      <th>Item_Weight</th>\n",
              "      <th>Item_Fat_Content</th>\n",
              "      <th>Item_Visibility</th>\n",
              "      <th>Item_Type</th>\n",
              "      <th>Item_MRP</th>\n",
              "      <th>Outlet_Identifier</th>\n",
              "      <th>Outlet_Establishment_Year</th>\n",
              "      <th>Outlet_Size</th>\n",
              "      <th>Outlet_Location_Type</th>\n",
              "      <th>Outlet_Type</th>\n",
              "      <th>Item_Outlet_Sales</th>\n",
              "    </tr>\n",
              "  </thead>\n",
              "  <tbody>\n",
              "    <tr>\n",
              "      <th>0</th>\n",
              "      <td>FDA15</td>\n",
              "      <td>9.30</td>\n",
              "      <td>Low Fat</td>\n",
              "      <td>0.016047</td>\n",
              "      <td>Dairy</td>\n",
              "      <td>249.8092</td>\n",
              "      <td>OUT049</td>\n",
              "      <td>1999</td>\n",
              "      <td>Medium</td>\n",
              "      <td>Tier 1</td>\n",
              "      <td>Supermarket Type1</td>\n",
              "      <td>3735.1380</td>\n",
              "    </tr>\n",
              "    <tr>\n",
              "      <th>1</th>\n",
              "      <td>DRC01</td>\n",
              "      <td>5.92</td>\n",
              "      <td>Regular</td>\n",
              "      <td>0.019278</td>\n",
              "      <td>Soft Drinks</td>\n",
              "      <td>48.2692</td>\n",
              "      <td>OUT018</td>\n",
              "      <td>2009</td>\n",
              "      <td>Medium</td>\n",
              "      <td>Tier 3</td>\n",
              "      <td>Supermarket Type2</td>\n",
              "      <td>443.4228</td>\n",
              "    </tr>\n",
              "    <tr>\n",
              "      <th>2</th>\n",
              "      <td>FDN15</td>\n",
              "      <td>17.50</td>\n",
              "      <td>Low Fat</td>\n",
              "      <td>0.016760</td>\n",
              "      <td>Meat</td>\n",
              "      <td>141.6180</td>\n",
              "      <td>OUT049</td>\n",
              "      <td>1999</td>\n",
              "      <td>Medium</td>\n",
              "      <td>Tier 1</td>\n",
              "      <td>Supermarket Type1</td>\n",
              "      <td>2097.2700</td>\n",
              "    </tr>\n",
              "    <tr>\n",
              "      <th>3</th>\n",
              "      <td>FDX07</td>\n",
              "      <td>19.20</td>\n",
              "      <td>Regular</td>\n",
              "      <td>0.000000</td>\n",
              "      <td>Fruits and Vegetables</td>\n",
              "      <td>182.0950</td>\n",
              "      <td>OUT010</td>\n",
              "      <td>1998</td>\n",
              "      <td>NaN</td>\n",
              "      <td>Tier 3</td>\n",
              "      <td>Grocery Store</td>\n",
              "      <td>732.3800</td>\n",
              "    </tr>\n",
              "    <tr>\n",
              "      <th>4</th>\n",
              "      <td>NCD19</td>\n",
              "      <td>8.93</td>\n",
              "      <td>Low Fat</td>\n",
              "      <td>0.000000</td>\n",
              "      <td>Household</td>\n",
              "      <td>53.8614</td>\n",
              "      <td>OUT013</td>\n",
              "      <td>1987</td>\n",
              "      <td>High</td>\n",
              "      <td>Tier 3</td>\n",
              "      <td>Supermarket Type1</td>\n",
              "      <td>994.7052</td>\n",
              "    </tr>\n",
              "  </tbody>\n",
              "</table>\n",
              "</div>\n",
              "      <button class=\"colab-df-convert\" onclick=\"convertToInteractive('df-02def80c-14bd-4522-bcc9-f30b0847154b')\"\n",
              "              title=\"Convert this dataframe to an interactive table.\"\n",
              "              style=\"display:none;\">\n",
              "        \n",
              "  <svg xmlns=\"http://www.w3.org/2000/svg\" height=\"24px\"viewBox=\"0 0 24 24\"\n",
              "       width=\"24px\">\n",
              "    <path d=\"M0 0h24v24H0V0z\" fill=\"none\"/>\n",
              "    <path d=\"M18.56 5.44l.94 2.06.94-2.06 2.06-.94-2.06-.94-.94-2.06-.94 2.06-2.06.94zm-11 1L8.5 8.5l.94-2.06 2.06-.94-2.06-.94L8.5 2.5l-.94 2.06-2.06.94zm10 10l.94 2.06.94-2.06 2.06-.94-2.06-.94-.94-2.06-.94 2.06-2.06.94z\"/><path d=\"M17.41 7.96l-1.37-1.37c-.4-.4-.92-.59-1.43-.59-.52 0-1.04.2-1.43.59L10.3 9.45l-7.72 7.72c-.78.78-.78 2.05 0 2.83L4 21.41c.39.39.9.59 1.41.59.51 0 1.02-.2 1.41-.59l7.78-7.78 2.81-2.81c.8-.78.8-2.07 0-2.86zM5.41 20L4 18.59l7.72-7.72 1.47 1.35L5.41 20z\"/>\n",
              "  </svg>\n",
              "      </button>\n",
              "      \n",
              "  <style>\n",
              "    .colab-df-container {\n",
              "      display:flex;\n",
              "      flex-wrap:wrap;\n",
              "      gap: 12px;\n",
              "    }\n",
              "\n",
              "    .colab-df-convert {\n",
              "      background-color: #E8F0FE;\n",
              "      border: none;\n",
              "      border-radius: 50%;\n",
              "      cursor: pointer;\n",
              "      display: none;\n",
              "      fill: #1967D2;\n",
              "      height: 32px;\n",
              "      padding: 0 0 0 0;\n",
              "      width: 32px;\n",
              "    }\n",
              "\n",
              "    .colab-df-convert:hover {\n",
              "      background-color: #E2EBFA;\n",
              "      box-shadow: 0px 1px 2px rgba(60, 64, 67, 0.3), 0px 1px 3px 1px rgba(60, 64, 67, 0.15);\n",
              "      fill: #174EA6;\n",
              "    }\n",
              "\n",
              "    [theme=dark] .colab-df-convert {\n",
              "      background-color: #3B4455;\n",
              "      fill: #D2E3FC;\n",
              "    }\n",
              "\n",
              "    [theme=dark] .colab-df-convert:hover {\n",
              "      background-color: #434B5C;\n",
              "      box-shadow: 0px 1px 3px 1px rgba(0, 0, 0, 0.15);\n",
              "      filter: drop-shadow(0px 1px 2px rgba(0, 0, 0, 0.3));\n",
              "      fill: #FFFFFF;\n",
              "    }\n",
              "  </style>\n",
              "\n",
              "      <script>\n",
              "        const buttonEl =\n",
              "          document.querySelector('#df-02def80c-14bd-4522-bcc9-f30b0847154b button.colab-df-convert');\n",
              "        buttonEl.style.display =\n",
              "          google.colab.kernel.accessAllowed ? 'block' : 'none';\n",
              "\n",
              "        async function convertToInteractive(key) {\n",
              "          const element = document.querySelector('#df-02def80c-14bd-4522-bcc9-f30b0847154b');\n",
              "          const dataTable =\n",
              "            await google.colab.kernel.invokeFunction('convertToInteractive',\n",
              "                                                     [key], {});\n",
              "          if (!dataTable) return;\n",
              "\n",
              "          const docLinkHtml = 'Like what you see? Visit the ' +\n",
              "            '<a target=\"_blank\" href=https://colab.research.google.com/notebooks/data_table.ipynb>data table notebook</a>'\n",
              "            + ' to learn more about interactive tables.';\n",
              "          element.innerHTML = '';\n",
              "          dataTable['output_type'] = 'display_data';\n",
              "          await google.colab.output.renderOutput(dataTable, element);\n",
              "          const docLink = document.createElement('div');\n",
              "          docLink.innerHTML = docLinkHtml;\n",
              "          element.appendChild(docLink);\n",
              "        }\n",
              "      </script>\n",
              "    </div>\n",
              "  </div>\n",
              "  "
            ]
          },
          "metadata": {},
          "execution_count": 2
        }
      ]
    },
    {
      "cell_type": "markdown",
      "source": [
        "## **Preprocesamiento de datos**"
      ],
      "metadata": {
        "id": "Md1KFZg_DDwt"
      }
    },
    {
      "cell_type": "code",
      "source": [
        "salesp_df = salesp_df.drop(columns =\"Item_Identifier\")"
      ],
      "metadata": {
        "id": "dDBDYIN9MacH"
      },
      "execution_count": 3,
      "outputs": []
    },
    {
      "cell_type": "code",
      "source": [
        "salesp_df.info()"
      ],
      "metadata": {
        "colab": {
          "base_uri": "https://localhost:8080/"
        },
        "id": "pivDofAb4HNB",
        "outputId": "3ee2bf4c-7466-44c2-fa8c-ab3f61e9937a"
      },
      "execution_count": 4,
      "outputs": [
        {
          "output_type": "stream",
          "name": "stdout",
          "text": [
            "<class 'pandas.core.frame.DataFrame'>\n",
            "RangeIndex: 8523 entries, 0 to 8522\n",
            "Data columns (total 11 columns):\n",
            " #   Column                     Non-Null Count  Dtype  \n",
            "---  ------                     --------------  -----  \n",
            " 0   Item_Weight                7060 non-null   float64\n",
            " 1   Item_Fat_Content           8523 non-null   object \n",
            " 2   Item_Visibility            8523 non-null   float64\n",
            " 3   Item_Type                  8523 non-null   object \n",
            " 4   Item_MRP                   8523 non-null   float64\n",
            " 5   Outlet_Identifier          8523 non-null   object \n",
            " 6   Outlet_Establishment_Year  8523 non-null   int64  \n",
            " 7   Outlet_Size                6113 non-null   object \n",
            " 8   Outlet_Location_Type       8523 non-null   object \n",
            " 9   Outlet_Type                8523 non-null   object \n",
            " 10  Item_Outlet_Sales          8523 non-null   float64\n",
            "dtypes: float64(4), int64(1), object(6)\n",
            "memory usage: 732.6+ KB\n"
          ]
        }
      ]
    },
    {
      "cell_type": "code",
      "source": [
        "#Codificación ordinal de la columna \"Item_Fat_Content\"\n",
        "replacement_dic = {\"LF\": \"Low Fat\", \"low fat\": \"Low Fat\", \"reg\": \"Regular\"}\n",
        "salesp_df[\"Item_Fat_Content\"].replace(replacement_dic, inplace = True)\n",
        "salesp_df[\"Item_Fat_Content\"].value_counts()"
      ],
      "metadata": {
        "colab": {
          "base_uri": "https://localhost:8080/"
        },
        "id": "k_XoipGIDL4Q",
        "outputId": "c76f3e26-9c3d-4354-ca9f-73f782942317"
      },
      "execution_count": 5,
      "outputs": [
        {
          "output_type": "execute_result",
          "data": {
            "text/plain": [
              "Low Fat    5517\n",
              "Regular    3006\n",
              "Name: Item_Fat_Content, dtype: int64"
            ]
          },
          "metadata": {},
          "execution_count": 5
        }
      ]
    },
    {
      "cell_type": "code",
      "source": [
        "#División de validación \n",
        "X = salesp_df.drop(columns = \"Item_Outlet_Sales\")\n",
        "y = salesp_df[\"Item_Outlet_Sales\"]\n",
        "\n",
        "X_train, X_test, y_train, y_test = train_test_split(X, y, random_state = 42)"
      ],
      "metadata": {
        "id": "NhBPYLL8DSLF"
      },
      "execution_count": 6,
      "outputs": []
    },
    {
      "cell_type": "code",
      "source": [
        "#Instanciar selectores de columnas \n",
        "cat_selector = make_column_selector(dtype_include = \"object\")\n",
        "num_selector = make_column_selector(dtype_include = \"number\")"
      ],
      "metadata": {
        "id": "eFi_7yIODw-s"
      },
      "execution_count": 7,
      "outputs": []
    },
    {
      "cell_type": "code",
      "source": [
        "#Instanciar transformadores\n",
        "\n",
        "#Imputers\n",
        "freq_imputer = SimpleImputer(strategy = \"most_frequent\")\n",
        "mean_imputer = SimpleImputer(strategy = \"mean\")\n",
        "\n",
        "#Scaler\n",
        "#scaler = StandardScaler() #No vamos a escalar\n",
        "\n",
        "#OHE\n",
        "ohe = OneHotEncoder(handle_unknown = \"ignore\", sparse = False)"
      ],
      "metadata": {
        "id": "OJVs2_cgGEor"
      },
      "execution_count": 8,
      "outputs": []
    },
    {
      "cell_type": "code",
      "source": [
        "#Instanciar Pipelines\n",
        "\n",
        "#Numeric pipeline\n",
        "numeric_pipe = make_pipeline(mean_imputer)\n",
        "numeric_pipe"
      ],
      "metadata": {
        "colab": {
          "base_uri": "https://localhost:8080/",
          "height": 92
        },
        "id": "8hkjV9ZzGKP-",
        "outputId": "d441bbb8-893a-480a-dcd0-4545b02122cb"
      },
      "execution_count": 9,
      "outputs": [
        {
          "output_type": "execute_result",
          "data": {
            "text/plain": [
              "Pipeline(steps=[('simpleimputer', SimpleImputer())])"
            ],
            "text/html": [
              "<style>#sk-100af079-c96d-4abc-bb78-5fe1a0349ab4 {color: black;background-color: white;}#sk-100af079-c96d-4abc-bb78-5fe1a0349ab4 pre{padding: 0;}#sk-100af079-c96d-4abc-bb78-5fe1a0349ab4 div.sk-toggleable {background-color: white;}#sk-100af079-c96d-4abc-bb78-5fe1a0349ab4 label.sk-toggleable__label {cursor: pointer;display: block;width: 100%;margin-bottom: 0;padding: 0.3em;box-sizing: border-box;text-align: center;}#sk-100af079-c96d-4abc-bb78-5fe1a0349ab4 label.sk-toggleable__label-arrow:before {content: \"▸\";float: left;margin-right: 0.25em;color: #696969;}#sk-100af079-c96d-4abc-bb78-5fe1a0349ab4 label.sk-toggleable__label-arrow:hover:before {color: black;}#sk-100af079-c96d-4abc-bb78-5fe1a0349ab4 div.sk-estimator:hover label.sk-toggleable__label-arrow:before {color: black;}#sk-100af079-c96d-4abc-bb78-5fe1a0349ab4 div.sk-toggleable__content {max-height: 0;max-width: 0;overflow: hidden;text-align: left;background-color: #f0f8ff;}#sk-100af079-c96d-4abc-bb78-5fe1a0349ab4 div.sk-toggleable__content pre {margin: 0.2em;color: black;border-radius: 0.25em;background-color: #f0f8ff;}#sk-100af079-c96d-4abc-bb78-5fe1a0349ab4 input.sk-toggleable__control:checked~div.sk-toggleable__content {max-height: 200px;max-width: 100%;overflow: auto;}#sk-100af079-c96d-4abc-bb78-5fe1a0349ab4 input.sk-toggleable__control:checked~label.sk-toggleable__label-arrow:before {content: \"▾\";}#sk-100af079-c96d-4abc-bb78-5fe1a0349ab4 div.sk-estimator input.sk-toggleable__control:checked~label.sk-toggleable__label {background-color: #d4ebff;}#sk-100af079-c96d-4abc-bb78-5fe1a0349ab4 div.sk-label input.sk-toggleable__control:checked~label.sk-toggleable__label {background-color: #d4ebff;}#sk-100af079-c96d-4abc-bb78-5fe1a0349ab4 input.sk-hidden--visually {border: 0;clip: rect(1px 1px 1px 1px);clip: rect(1px, 1px, 1px, 1px);height: 1px;margin: -1px;overflow: hidden;padding: 0;position: absolute;width: 1px;}#sk-100af079-c96d-4abc-bb78-5fe1a0349ab4 div.sk-estimator {font-family: monospace;background-color: #f0f8ff;border: 1px dotted black;border-radius: 0.25em;box-sizing: border-box;margin-bottom: 0.5em;}#sk-100af079-c96d-4abc-bb78-5fe1a0349ab4 div.sk-estimator:hover {background-color: #d4ebff;}#sk-100af079-c96d-4abc-bb78-5fe1a0349ab4 div.sk-parallel-item::after {content: \"\";width: 100%;border-bottom: 1px solid gray;flex-grow: 1;}#sk-100af079-c96d-4abc-bb78-5fe1a0349ab4 div.sk-label:hover label.sk-toggleable__label {background-color: #d4ebff;}#sk-100af079-c96d-4abc-bb78-5fe1a0349ab4 div.sk-serial::before {content: \"\";position: absolute;border-left: 1px solid gray;box-sizing: border-box;top: 2em;bottom: 0;left: 50%;}#sk-100af079-c96d-4abc-bb78-5fe1a0349ab4 div.sk-serial {display: flex;flex-direction: column;align-items: center;background-color: white;padding-right: 0.2em;padding-left: 0.2em;}#sk-100af079-c96d-4abc-bb78-5fe1a0349ab4 div.sk-item {z-index: 1;}#sk-100af079-c96d-4abc-bb78-5fe1a0349ab4 div.sk-parallel {display: flex;align-items: stretch;justify-content: center;background-color: white;}#sk-100af079-c96d-4abc-bb78-5fe1a0349ab4 div.sk-parallel::before {content: \"\";position: absolute;border-left: 1px solid gray;box-sizing: border-box;top: 2em;bottom: 0;left: 50%;}#sk-100af079-c96d-4abc-bb78-5fe1a0349ab4 div.sk-parallel-item {display: flex;flex-direction: column;position: relative;background-color: white;}#sk-100af079-c96d-4abc-bb78-5fe1a0349ab4 div.sk-parallel-item:first-child::after {align-self: flex-end;width: 50%;}#sk-100af079-c96d-4abc-bb78-5fe1a0349ab4 div.sk-parallel-item:last-child::after {align-self: flex-start;width: 50%;}#sk-100af079-c96d-4abc-bb78-5fe1a0349ab4 div.sk-parallel-item:only-child::after {width: 0;}#sk-100af079-c96d-4abc-bb78-5fe1a0349ab4 div.sk-dashed-wrapped {border: 1px dashed gray;margin: 0 0.4em 0.5em 0.4em;box-sizing: border-box;padding-bottom: 0.4em;background-color: white;position: relative;}#sk-100af079-c96d-4abc-bb78-5fe1a0349ab4 div.sk-label label {font-family: monospace;font-weight: bold;background-color: white;display: inline-block;line-height: 1.2em;}#sk-100af079-c96d-4abc-bb78-5fe1a0349ab4 div.sk-label-container {position: relative;z-index: 2;text-align: center;}#sk-100af079-c96d-4abc-bb78-5fe1a0349ab4 div.sk-container {/* jupyter's `normalize.less` sets `[hidden] { display: none; }` but bootstrap.min.css set `[hidden] { display: none !important; }` so we also need the `!important` here to be able to override the default hidden behavior on the sphinx rendered scikit-learn.org. See: https://github.com/scikit-learn/scikit-learn/issues/21755 */display: inline-block !important;position: relative;}#sk-100af079-c96d-4abc-bb78-5fe1a0349ab4 div.sk-text-repr-fallback {display: none;}</style><div id=\"sk-100af079-c96d-4abc-bb78-5fe1a0349ab4\" class=\"sk-top-container\"><div class=\"sk-text-repr-fallback\"><pre>Pipeline(steps=[(&#x27;simpleimputer&#x27;, SimpleImputer())])</pre><b>Please rerun this cell to show the HTML repr or trust the notebook.</b></div><div class=\"sk-container\" hidden><div class=\"sk-item sk-dashed-wrapped\"><div class=\"sk-label-container\"><div class=\"sk-label sk-toggleable\"><input class=\"sk-toggleable__control sk-hidden--visually\" id=\"535a6a04-9e61-49f4-ae60-4cb625df0119\" type=\"checkbox\" ><label for=\"535a6a04-9e61-49f4-ae60-4cb625df0119\" class=\"sk-toggleable__label sk-toggleable__label-arrow\">Pipeline</label><div class=\"sk-toggleable__content\"><pre>Pipeline(steps=[(&#x27;simpleimputer&#x27;, SimpleImputer())])</pre></div></div></div><div class=\"sk-serial\"><div class=\"sk-item\"><div class=\"sk-estimator sk-toggleable\"><input class=\"sk-toggleable__control sk-hidden--visually\" id=\"9f605ed3-4dc0-4a14-bdc5-5109e6954d23\" type=\"checkbox\" ><label for=\"9f605ed3-4dc0-4a14-bdc5-5109e6954d23\" class=\"sk-toggleable__label sk-toggleable__label-arrow\">SimpleImputer</label><div class=\"sk-toggleable__content\"><pre>SimpleImputer()</pre></div></div></div></div></div></div></div>"
            ]
          },
          "metadata": {},
          "execution_count": 9
        }
      ]
    },
    {
      "cell_type": "code",
      "source": [
        "#Categorical pipeline\n",
        "categorical_pipe = make_pipeline(freq_imputer, ohe)\n",
        "categorical_pipe"
      ],
      "metadata": {
        "colab": {
          "base_uri": "https://localhost:8080/",
          "height": 126
        },
        "id": "7Mp7049zGNZi",
        "outputId": "70cf7b1e-c1f5-4f51-fff6-f2eff7f96673"
      },
      "execution_count": 10,
      "outputs": [
        {
          "output_type": "execute_result",
          "data": {
            "text/plain": [
              "Pipeline(steps=[('simpleimputer', SimpleImputer(strategy='most_frequent')),\n",
              "                ('onehotencoder',\n",
              "                 OneHotEncoder(handle_unknown='ignore', sparse=False))])"
            ],
            "text/html": [
              "<style>#sk-376c9558-0001-44de-bef7-60f74b9cfef9 {color: black;background-color: white;}#sk-376c9558-0001-44de-bef7-60f74b9cfef9 pre{padding: 0;}#sk-376c9558-0001-44de-bef7-60f74b9cfef9 div.sk-toggleable {background-color: white;}#sk-376c9558-0001-44de-bef7-60f74b9cfef9 label.sk-toggleable__label {cursor: pointer;display: block;width: 100%;margin-bottom: 0;padding: 0.3em;box-sizing: border-box;text-align: center;}#sk-376c9558-0001-44de-bef7-60f74b9cfef9 label.sk-toggleable__label-arrow:before {content: \"▸\";float: left;margin-right: 0.25em;color: #696969;}#sk-376c9558-0001-44de-bef7-60f74b9cfef9 label.sk-toggleable__label-arrow:hover:before {color: black;}#sk-376c9558-0001-44de-bef7-60f74b9cfef9 div.sk-estimator:hover label.sk-toggleable__label-arrow:before {color: black;}#sk-376c9558-0001-44de-bef7-60f74b9cfef9 div.sk-toggleable__content {max-height: 0;max-width: 0;overflow: hidden;text-align: left;background-color: #f0f8ff;}#sk-376c9558-0001-44de-bef7-60f74b9cfef9 div.sk-toggleable__content pre {margin: 0.2em;color: black;border-radius: 0.25em;background-color: #f0f8ff;}#sk-376c9558-0001-44de-bef7-60f74b9cfef9 input.sk-toggleable__control:checked~div.sk-toggleable__content {max-height: 200px;max-width: 100%;overflow: auto;}#sk-376c9558-0001-44de-bef7-60f74b9cfef9 input.sk-toggleable__control:checked~label.sk-toggleable__label-arrow:before {content: \"▾\";}#sk-376c9558-0001-44de-bef7-60f74b9cfef9 div.sk-estimator input.sk-toggleable__control:checked~label.sk-toggleable__label {background-color: #d4ebff;}#sk-376c9558-0001-44de-bef7-60f74b9cfef9 div.sk-label input.sk-toggleable__control:checked~label.sk-toggleable__label {background-color: #d4ebff;}#sk-376c9558-0001-44de-bef7-60f74b9cfef9 input.sk-hidden--visually {border: 0;clip: rect(1px 1px 1px 1px);clip: rect(1px, 1px, 1px, 1px);height: 1px;margin: -1px;overflow: hidden;padding: 0;position: absolute;width: 1px;}#sk-376c9558-0001-44de-bef7-60f74b9cfef9 div.sk-estimator {font-family: monospace;background-color: #f0f8ff;border: 1px dotted black;border-radius: 0.25em;box-sizing: border-box;margin-bottom: 0.5em;}#sk-376c9558-0001-44de-bef7-60f74b9cfef9 div.sk-estimator:hover {background-color: #d4ebff;}#sk-376c9558-0001-44de-bef7-60f74b9cfef9 div.sk-parallel-item::after {content: \"\";width: 100%;border-bottom: 1px solid gray;flex-grow: 1;}#sk-376c9558-0001-44de-bef7-60f74b9cfef9 div.sk-label:hover label.sk-toggleable__label {background-color: #d4ebff;}#sk-376c9558-0001-44de-bef7-60f74b9cfef9 div.sk-serial::before {content: \"\";position: absolute;border-left: 1px solid gray;box-sizing: border-box;top: 2em;bottom: 0;left: 50%;}#sk-376c9558-0001-44de-bef7-60f74b9cfef9 div.sk-serial {display: flex;flex-direction: column;align-items: center;background-color: white;padding-right: 0.2em;padding-left: 0.2em;}#sk-376c9558-0001-44de-bef7-60f74b9cfef9 div.sk-item {z-index: 1;}#sk-376c9558-0001-44de-bef7-60f74b9cfef9 div.sk-parallel {display: flex;align-items: stretch;justify-content: center;background-color: white;}#sk-376c9558-0001-44de-bef7-60f74b9cfef9 div.sk-parallel::before {content: \"\";position: absolute;border-left: 1px solid gray;box-sizing: border-box;top: 2em;bottom: 0;left: 50%;}#sk-376c9558-0001-44de-bef7-60f74b9cfef9 div.sk-parallel-item {display: flex;flex-direction: column;position: relative;background-color: white;}#sk-376c9558-0001-44de-bef7-60f74b9cfef9 div.sk-parallel-item:first-child::after {align-self: flex-end;width: 50%;}#sk-376c9558-0001-44de-bef7-60f74b9cfef9 div.sk-parallel-item:last-child::after {align-self: flex-start;width: 50%;}#sk-376c9558-0001-44de-bef7-60f74b9cfef9 div.sk-parallel-item:only-child::after {width: 0;}#sk-376c9558-0001-44de-bef7-60f74b9cfef9 div.sk-dashed-wrapped {border: 1px dashed gray;margin: 0 0.4em 0.5em 0.4em;box-sizing: border-box;padding-bottom: 0.4em;background-color: white;position: relative;}#sk-376c9558-0001-44de-bef7-60f74b9cfef9 div.sk-label label {font-family: monospace;font-weight: bold;background-color: white;display: inline-block;line-height: 1.2em;}#sk-376c9558-0001-44de-bef7-60f74b9cfef9 div.sk-label-container {position: relative;z-index: 2;text-align: center;}#sk-376c9558-0001-44de-bef7-60f74b9cfef9 div.sk-container {/* jupyter's `normalize.less` sets `[hidden] { display: none; }` but bootstrap.min.css set `[hidden] { display: none !important; }` so we also need the `!important` here to be able to override the default hidden behavior on the sphinx rendered scikit-learn.org. See: https://github.com/scikit-learn/scikit-learn/issues/21755 */display: inline-block !important;position: relative;}#sk-376c9558-0001-44de-bef7-60f74b9cfef9 div.sk-text-repr-fallback {display: none;}</style><div id=\"sk-376c9558-0001-44de-bef7-60f74b9cfef9\" class=\"sk-top-container\"><div class=\"sk-text-repr-fallback\"><pre>Pipeline(steps=[(&#x27;simpleimputer&#x27;, SimpleImputer(strategy=&#x27;most_frequent&#x27;)),\n",
              "                (&#x27;onehotencoder&#x27;,\n",
              "                 OneHotEncoder(handle_unknown=&#x27;ignore&#x27;, sparse=False))])</pre><b>Please rerun this cell to show the HTML repr or trust the notebook.</b></div><div class=\"sk-container\" hidden><div class=\"sk-item sk-dashed-wrapped\"><div class=\"sk-label-container\"><div class=\"sk-label sk-toggleable\"><input class=\"sk-toggleable__control sk-hidden--visually\" id=\"100f236b-34f8-4d91-9912-0e91af7e61a3\" type=\"checkbox\" ><label for=\"100f236b-34f8-4d91-9912-0e91af7e61a3\" class=\"sk-toggleable__label sk-toggleable__label-arrow\">Pipeline</label><div class=\"sk-toggleable__content\"><pre>Pipeline(steps=[(&#x27;simpleimputer&#x27;, SimpleImputer(strategy=&#x27;most_frequent&#x27;)),\n",
              "                (&#x27;onehotencoder&#x27;,\n",
              "                 OneHotEncoder(handle_unknown=&#x27;ignore&#x27;, sparse=False))])</pre></div></div></div><div class=\"sk-serial\"><div class=\"sk-item\"><div class=\"sk-estimator sk-toggleable\"><input class=\"sk-toggleable__control sk-hidden--visually\" id=\"b36e225b-e7fc-48a9-8b51-17595db65285\" type=\"checkbox\" ><label for=\"b36e225b-e7fc-48a9-8b51-17595db65285\" class=\"sk-toggleable__label sk-toggleable__label-arrow\">SimpleImputer</label><div class=\"sk-toggleable__content\"><pre>SimpleImputer(strategy=&#x27;most_frequent&#x27;)</pre></div></div></div><div class=\"sk-item\"><div class=\"sk-estimator sk-toggleable\"><input class=\"sk-toggleable__control sk-hidden--visually\" id=\"5f1aa5f4-ab4a-4ce5-8cba-e2be1819aa2b\" type=\"checkbox\" ><label for=\"5f1aa5f4-ab4a-4ce5-8cba-e2be1819aa2b\" class=\"sk-toggleable__label sk-toggleable__label-arrow\">OneHotEncoder</label><div class=\"sk-toggleable__content\"><pre>OneHotEncoder(handle_unknown=&#x27;ignore&#x27;, sparse=False)</pre></div></div></div></div></div></div></div>"
            ]
          },
          "metadata": {},
          "execution_count": 10
        }
      ]
    },
    {
      "cell_type": "code",
      "source": [
        "#Instanciar ColumnTransformer\n",
        "\n",
        "#Tuplas para ColumnTransformer\n",
        "number_tuple   = (numeric_pipe, num_selector)\n",
        "category_tuple = (categorical_pipe, cat_selector)\n",
        "\n",
        "#ColumnTransformer\n",
        "preprocessor = make_column_transformer(number_tuple, category_tuple)\n",
        "preprocessor"
      ],
      "metadata": {
        "colab": {
          "base_uri": "https://localhost:8080/",
          "height": 153
        },
        "id": "fHLWssx0GPwb",
        "outputId": "4f6888e0-c602-4caf-a0e1-a37b9e2243f9"
      },
      "execution_count": 11,
      "outputs": [
        {
          "output_type": "execute_result",
          "data": {
            "text/plain": [
              "ColumnTransformer(transformers=[('pipeline-1',\n",
              "                                 Pipeline(steps=[('simpleimputer',\n",
              "                                                  SimpleImputer())]),\n",
              "                                 <sklearn.compose._column_transformer.make_column_selector object at 0x7f620facfaf0>),\n",
              "                                ('pipeline-2',\n",
              "                                 Pipeline(steps=[('simpleimputer',\n",
              "                                                  SimpleImputer(strategy='most_frequent')),\n",
              "                                                 ('onehotencoder',\n",
              "                                                  OneHotEncoder(handle_unknown='ignore',\n",
              "                                                                sparse=False))]),\n",
              "                                 <sklearn.compose._column_transformer.make_column_selector object at 0x7f620facfbb0>)])"
            ],
            "text/html": [
              "<style>#sk-23cc392d-31cd-4674-a830-81c058744317 {color: black;background-color: white;}#sk-23cc392d-31cd-4674-a830-81c058744317 pre{padding: 0;}#sk-23cc392d-31cd-4674-a830-81c058744317 div.sk-toggleable {background-color: white;}#sk-23cc392d-31cd-4674-a830-81c058744317 label.sk-toggleable__label {cursor: pointer;display: block;width: 100%;margin-bottom: 0;padding: 0.3em;box-sizing: border-box;text-align: center;}#sk-23cc392d-31cd-4674-a830-81c058744317 label.sk-toggleable__label-arrow:before {content: \"▸\";float: left;margin-right: 0.25em;color: #696969;}#sk-23cc392d-31cd-4674-a830-81c058744317 label.sk-toggleable__label-arrow:hover:before {color: black;}#sk-23cc392d-31cd-4674-a830-81c058744317 div.sk-estimator:hover label.sk-toggleable__label-arrow:before {color: black;}#sk-23cc392d-31cd-4674-a830-81c058744317 div.sk-toggleable__content {max-height: 0;max-width: 0;overflow: hidden;text-align: left;background-color: #f0f8ff;}#sk-23cc392d-31cd-4674-a830-81c058744317 div.sk-toggleable__content pre {margin: 0.2em;color: black;border-radius: 0.25em;background-color: #f0f8ff;}#sk-23cc392d-31cd-4674-a830-81c058744317 input.sk-toggleable__control:checked~div.sk-toggleable__content {max-height: 200px;max-width: 100%;overflow: auto;}#sk-23cc392d-31cd-4674-a830-81c058744317 input.sk-toggleable__control:checked~label.sk-toggleable__label-arrow:before {content: \"▾\";}#sk-23cc392d-31cd-4674-a830-81c058744317 div.sk-estimator input.sk-toggleable__control:checked~label.sk-toggleable__label {background-color: #d4ebff;}#sk-23cc392d-31cd-4674-a830-81c058744317 div.sk-label input.sk-toggleable__control:checked~label.sk-toggleable__label {background-color: #d4ebff;}#sk-23cc392d-31cd-4674-a830-81c058744317 input.sk-hidden--visually {border: 0;clip: rect(1px 1px 1px 1px);clip: rect(1px, 1px, 1px, 1px);height: 1px;margin: -1px;overflow: hidden;padding: 0;position: absolute;width: 1px;}#sk-23cc392d-31cd-4674-a830-81c058744317 div.sk-estimator {font-family: monospace;background-color: #f0f8ff;border: 1px dotted black;border-radius: 0.25em;box-sizing: border-box;margin-bottom: 0.5em;}#sk-23cc392d-31cd-4674-a830-81c058744317 div.sk-estimator:hover {background-color: #d4ebff;}#sk-23cc392d-31cd-4674-a830-81c058744317 div.sk-parallel-item::after {content: \"\";width: 100%;border-bottom: 1px solid gray;flex-grow: 1;}#sk-23cc392d-31cd-4674-a830-81c058744317 div.sk-label:hover label.sk-toggleable__label {background-color: #d4ebff;}#sk-23cc392d-31cd-4674-a830-81c058744317 div.sk-serial::before {content: \"\";position: absolute;border-left: 1px solid gray;box-sizing: border-box;top: 2em;bottom: 0;left: 50%;}#sk-23cc392d-31cd-4674-a830-81c058744317 div.sk-serial {display: flex;flex-direction: column;align-items: center;background-color: white;padding-right: 0.2em;padding-left: 0.2em;}#sk-23cc392d-31cd-4674-a830-81c058744317 div.sk-item {z-index: 1;}#sk-23cc392d-31cd-4674-a830-81c058744317 div.sk-parallel {display: flex;align-items: stretch;justify-content: center;background-color: white;}#sk-23cc392d-31cd-4674-a830-81c058744317 div.sk-parallel::before {content: \"\";position: absolute;border-left: 1px solid gray;box-sizing: border-box;top: 2em;bottom: 0;left: 50%;}#sk-23cc392d-31cd-4674-a830-81c058744317 div.sk-parallel-item {display: flex;flex-direction: column;position: relative;background-color: white;}#sk-23cc392d-31cd-4674-a830-81c058744317 div.sk-parallel-item:first-child::after {align-self: flex-end;width: 50%;}#sk-23cc392d-31cd-4674-a830-81c058744317 div.sk-parallel-item:last-child::after {align-self: flex-start;width: 50%;}#sk-23cc392d-31cd-4674-a830-81c058744317 div.sk-parallel-item:only-child::after {width: 0;}#sk-23cc392d-31cd-4674-a830-81c058744317 div.sk-dashed-wrapped {border: 1px dashed gray;margin: 0 0.4em 0.5em 0.4em;box-sizing: border-box;padding-bottom: 0.4em;background-color: white;position: relative;}#sk-23cc392d-31cd-4674-a830-81c058744317 div.sk-label label {font-family: monospace;font-weight: bold;background-color: white;display: inline-block;line-height: 1.2em;}#sk-23cc392d-31cd-4674-a830-81c058744317 div.sk-label-container {position: relative;z-index: 2;text-align: center;}#sk-23cc392d-31cd-4674-a830-81c058744317 div.sk-container {/* jupyter's `normalize.less` sets `[hidden] { display: none; }` but bootstrap.min.css set `[hidden] { display: none !important; }` so we also need the `!important` here to be able to override the default hidden behavior on the sphinx rendered scikit-learn.org. See: https://github.com/scikit-learn/scikit-learn/issues/21755 */display: inline-block !important;position: relative;}#sk-23cc392d-31cd-4674-a830-81c058744317 div.sk-text-repr-fallback {display: none;}</style><div id=\"sk-23cc392d-31cd-4674-a830-81c058744317\" class=\"sk-top-container\"><div class=\"sk-text-repr-fallback\"><pre>ColumnTransformer(transformers=[(&#x27;pipeline-1&#x27;,\n",
              "                                 Pipeline(steps=[(&#x27;simpleimputer&#x27;,\n",
              "                                                  SimpleImputer())]),\n",
              "                                 &lt;sklearn.compose._column_transformer.make_column_selector object at 0x7f620facfaf0&gt;),\n",
              "                                (&#x27;pipeline-2&#x27;,\n",
              "                                 Pipeline(steps=[(&#x27;simpleimputer&#x27;,\n",
              "                                                  SimpleImputer(strategy=&#x27;most_frequent&#x27;)),\n",
              "                                                 (&#x27;onehotencoder&#x27;,\n",
              "                                                  OneHotEncoder(handle_unknown=&#x27;ignore&#x27;,\n",
              "                                                                sparse=False))]),\n",
              "                                 &lt;sklearn.compose._column_transformer.make_column_selector object at 0x7f620facfbb0&gt;)])</pre><b>Please rerun this cell to show the HTML repr or trust the notebook.</b></div><div class=\"sk-container\" hidden><div class=\"sk-item sk-dashed-wrapped\"><div class=\"sk-label-container\"><div class=\"sk-label sk-toggleable\"><input class=\"sk-toggleable__control sk-hidden--visually\" id=\"8b0dfdd1-0037-430e-95c8-9310570e9c7d\" type=\"checkbox\" ><label for=\"8b0dfdd1-0037-430e-95c8-9310570e9c7d\" class=\"sk-toggleable__label sk-toggleable__label-arrow\">ColumnTransformer</label><div class=\"sk-toggleable__content\"><pre>ColumnTransformer(transformers=[(&#x27;pipeline-1&#x27;,\n",
              "                                 Pipeline(steps=[(&#x27;simpleimputer&#x27;,\n",
              "                                                  SimpleImputer())]),\n",
              "                                 &lt;sklearn.compose._column_transformer.make_column_selector object at 0x7f620facfaf0&gt;),\n",
              "                                (&#x27;pipeline-2&#x27;,\n",
              "                                 Pipeline(steps=[(&#x27;simpleimputer&#x27;,\n",
              "                                                  SimpleImputer(strategy=&#x27;most_frequent&#x27;)),\n",
              "                                                 (&#x27;onehotencoder&#x27;,\n",
              "                                                  OneHotEncoder(handle_unknown=&#x27;ignore&#x27;,\n",
              "                                                                sparse=False))]),\n",
              "                                 &lt;sklearn.compose._column_transformer.make_column_selector object at 0x7f620facfbb0&gt;)])</pre></div></div></div><div class=\"sk-parallel\"><div class=\"sk-parallel-item\"><div class=\"sk-item\"><div class=\"sk-label-container\"><div class=\"sk-label sk-toggleable\"><input class=\"sk-toggleable__control sk-hidden--visually\" id=\"3c79fb18-ef65-4e3f-9206-19550c15d227\" type=\"checkbox\" ><label for=\"3c79fb18-ef65-4e3f-9206-19550c15d227\" class=\"sk-toggleable__label sk-toggleable__label-arrow\">pipeline-1</label><div class=\"sk-toggleable__content\"><pre>&lt;sklearn.compose._column_transformer.make_column_selector object at 0x7f620facfaf0&gt;</pre></div></div></div><div class=\"sk-serial\"><div class=\"sk-item\"><div class=\"sk-serial\"><div class=\"sk-item\"><div class=\"sk-estimator sk-toggleable\"><input class=\"sk-toggleable__control sk-hidden--visually\" id=\"ba83f41a-76b3-4c5c-b6e3-664f341a5878\" type=\"checkbox\" ><label for=\"ba83f41a-76b3-4c5c-b6e3-664f341a5878\" class=\"sk-toggleable__label sk-toggleable__label-arrow\">SimpleImputer</label><div class=\"sk-toggleable__content\"><pre>SimpleImputer()</pre></div></div></div></div></div></div></div></div><div class=\"sk-parallel-item\"><div class=\"sk-item\"><div class=\"sk-label-container\"><div class=\"sk-label sk-toggleable\"><input class=\"sk-toggleable__control sk-hidden--visually\" id=\"6470fbca-ae24-42ab-a7ee-292dde364dce\" type=\"checkbox\" ><label for=\"6470fbca-ae24-42ab-a7ee-292dde364dce\" class=\"sk-toggleable__label sk-toggleable__label-arrow\">pipeline-2</label><div class=\"sk-toggleable__content\"><pre>&lt;sklearn.compose._column_transformer.make_column_selector object at 0x7f620facfbb0&gt;</pre></div></div></div><div class=\"sk-serial\"><div class=\"sk-item\"><div class=\"sk-serial\"><div class=\"sk-item\"><div class=\"sk-estimator sk-toggleable\"><input class=\"sk-toggleable__control sk-hidden--visually\" id=\"fcc64bb8-2c65-4567-aa06-8b3494a5ce39\" type=\"checkbox\" ><label for=\"fcc64bb8-2c65-4567-aa06-8b3494a5ce39\" class=\"sk-toggleable__label sk-toggleable__label-arrow\">SimpleImputer</label><div class=\"sk-toggleable__content\"><pre>SimpleImputer(strategy=&#x27;most_frequent&#x27;)</pre></div></div></div><div class=\"sk-item\"><div class=\"sk-estimator sk-toggleable\"><input class=\"sk-toggleable__control sk-hidden--visually\" id=\"a0b81206-ad79-4645-90e5-d8bcac5e2bff\" type=\"checkbox\" ><label for=\"a0b81206-ad79-4645-90e5-d8bcac5e2bff\" class=\"sk-toggleable__label sk-toggleable__label-arrow\">OneHotEncoder</label><div class=\"sk-toggleable__content\"><pre>OneHotEncoder(handle_unknown=&#x27;ignore&#x27;, sparse=False)</pre></div></div></div></div></div></div></div></div></div></div></div></div>"
            ]
          },
          "metadata": {},
          "execution_count": 11
        }
      ]
    },
    {
      "cell_type": "code",
      "source": [
        "preprocessor.fit(X_train)"
      ],
      "metadata": {
        "colab": {
          "base_uri": "https://localhost:8080/",
          "height": 153
        },
        "id": "n_vhf4RqGSQe",
        "outputId": "aab518dd-95e7-495f-8630-ad0677984b6c"
      },
      "execution_count": 12,
      "outputs": [
        {
          "output_type": "execute_result",
          "data": {
            "text/plain": [
              "ColumnTransformer(transformers=[('pipeline-1',\n",
              "                                 Pipeline(steps=[('simpleimputer',\n",
              "                                                  SimpleImputer())]),\n",
              "                                 <sklearn.compose._column_transformer.make_column_selector object at 0x7f620facfaf0>),\n",
              "                                ('pipeline-2',\n",
              "                                 Pipeline(steps=[('simpleimputer',\n",
              "                                                  SimpleImputer(strategy='most_frequent')),\n",
              "                                                 ('onehotencoder',\n",
              "                                                  OneHotEncoder(handle_unknown='ignore',\n",
              "                                                                sparse=False))]),\n",
              "                                 <sklearn.compose._column_transformer.make_column_selector object at 0x7f620facfbb0>)])"
            ],
            "text/html": [
              "<style>#sk-dce7d8a8-eb12-4a38-ac6c-2a677e0f6557 {color: black;background-color: white;}#sk-dce7d8a8-eb12-4a38-ac6c-2a677e0f6557 pre{padding: 0;}#sk-dce7d8a8-eb12-4a38-ac6c-2a677e0f6557 div.sk-toggleable {background-color: white;}#sk-dce7d8a8-eb12-4a38-ac6c-2a677e0f6557 label.sk-toggleable__label {cursor: pointer;display: block;width: 100%;margin-bottom: 0;padding: 0.3em;box-sizing: border-box;text-align: center;}#sk-dce7d8a8-eb12-4a38-ac6c-2a677e0f6557 label.sk-toggleable__label-arrow:before {content: \"▸\";float: left;margin-right: 0.25em;color: #696969;}#sk-dce7d8a8-eb12-4a38-ac6c-2a677e0f6557 label.sk-toggleable__label-arrow:hover:before {color: black;}#sk-dce7d8a8-eb12-4a38-ac6c-2a677e0f6557 div.sk-estimator:hover label.sk-toggleable__label-arrow:before {color: black;}#sk-dce7d8a8-eb12-4a38-ac6c-2a677e0f6557 div.sk-toggleable__content {max-height: 0;max-width: 0;overflow: hidden;text-align: left;background-color: #f0f8ff;}#sk-dce7d8a8-eb12-4a38-ac6c-2a677e0f6557 div.sk-toggleable__content pre {margin: 0.2em;color: black;border-radius: 0.25em;background-color: #f0f8ff;}#sk-dce7d8a8-eb12-4a38-ac6c-2a677e0f6557 input.sk-toggleable__control:checked~div.sk-toggleable__content {max-height: 200px;max-width: 100%;overflow: auto;}#sk-dce7d8a8-eb12-4a38-ac6c-2a677e0f6557 input.sk-toggleable__control:checked~label.sk-toggleable__label-arrow:before {content: \"▾\";}#sk-dce7d8a8-eb12-4a38-ac6c-2a677e0f6557 div.sk-estimator input.sk-toggleable__control:checked~label.sk-toggleable__label {background-color: #d4ebff;}#sk-dce7d8a8-eb12-4a38-ac6c-2a677e0f6557 div.sk-label input.sk-toggleable__control:checked~label.sk-toggleable__label {background-color: #d4ebff;}#sk-dce7d8a8-eb12-4a38-ac6c-2a677e0f6557 input.sk-hidden--visually {border: 0;clip: rect(1px 1px 1px 1px);clip: rect(1px, 1px, 1px, 1px);height: 1px;margin: -1px;overflow: hidden;padding: 0;position: absolute;width: 1px;}#sk-dce7d8a8-eb12-4a38-ac6c-2a677e0f6557 div.sk-estimator {font-family: monospace;background-color: #f0f8ff;border: 1px dotted black;border-radius: 0.25em;box-sizing: border-box;margin-bottom: 0.5em;}#sk-dce7d8a8-eb12-4a38-ac6c-2a677e0f6557 div.sk-estimator:hover {background-color: #d4ebff;}#sk-dce7d8a8-eb12-4a38-ac6c-2a677e0f6557 div.sk-parallel-item::after {content: \"\";width: 100%;border-bottom: 1px solid gray;flex-grow: 1;}#sk-dce7d8a8-eb12-4a38-ac6c-2a677e0f6557 div.sk-label:hover label.sk-toggleable__label {background-color: #d4ebff;}#sk-dce7d8a8-eb12-4a38-ac6c-2a677e0f6557 div.sk-serial::before {content: \"\";position: absolute;border-left: 1px solid gray;box-sizing: border-box;top: 2em;bottom: 0;left: 50%;}#sk-dce7d8a8-eb12-4a38-ac6c-2a677e0f6557 div.sk-serial {display: flex;flex-direction: column;align-items: center;background-color: white;padding-right: 0.2em;padding-left: 0.2em;}#sk-dce7d8a8-eb12-4a38-ac6c-2a677e0f6557 div.sk-item {z-index: 1;}#sk-dce7d8a8-eb12-4a38-ac6c-2a677e0f6557 div.sk-parallel {display: flex;align-items: stretch;justify-content: center;background-color: white;}#sk-dce7d8a8-eb12-4a38-ac6c-2a677e0f6557 div.sk-parallel::before {content: \"\";position: absolute;border-left: 1px solid gray;box-sizing: border-box;top: 2em;bottom: 0;left: 50%;}#sk-dce7d8a8-eb12-4a38-ac6c-2a677e0f6557 div.sk-parallel-item {display: flex;flex-direction: column;position: relative;background-color: white;}#sk-dce7d8a8-eb12-4a38-ac6c-2a677e0f6557 div.sk-parallel-item:first-child::after {align-self: flex-end;width: 50%;}#sk-dce7d8a8-eb12-4a38-ac6c-2a677e0f6557 div.sk-parallel-item:last-child::after {align-self: flex-start;width: 50%;}#sk-dce7d8a8-eb12-4a38-ac6c-2a677e0f6557 div.sk-parallel-item:only-child::after {width: 0;}#sk-dce7d8a8-eb12-4a38-ac6c-2a677e0f6557 div.sk-dashed-wrapped {border: 1px dashed gray;margin: 0 0.4em 0.5em 0.4em;box-sizing: border-box;padding-bottom: 0.4em;background-color: white;position: relative;}#sk-dce7d8a8-eb12-4a38-ac6c-2a677e0f6557 div.sk-label label {font-family: monospace;font-weight: bold;background-color: white;display: inline-block;line-height: 1.2em;}#sk-dce7d8a8-eb12-4a38-ac6c-2a677e0f6557 div.sk-label-container {position: relative;z-index: 2;text-align: center;}#sk-dce7d8a8-eb12-4a38-ac6c-2a677e0f6557 div.sk-container {/* jupyter's `normalize.less` sets `[hidden] { display: none; }` but bootstrap.min.css set `[hidden] { display: none !important; }` so we also need the `!important` here to be able to override the default hidden behavior on the sphinx rendered scikit-learn.org. See: https://github.com/scikit-learn/scikit-learn/issues/21755 */display: inline-block !important;position: relative;}#sk-dce7d8a8-eb12-4a38-ac6c-2a677e0f6557 div.sk-text-repr-fallback {display: none;}</style><div id=\"sk-dce7d8a8-eb12-4a38-ac6c-2a677e0f6557\" class=\"sk-top-container\"><div class=\"sk-text-repr-fallback\"><pre>ColumnTransformer(transformers=[(&#x27;pipeline-1&#x27;,\n",
              "                                 Pipeline(steps=[(&#x27;simpleimputer&#x27;,\n",
              "                                                  SimpleImputer())]),\n",
              "                                 &lt;sklearn.compose._column_transformer.make_column_selector object at 0x7f620facfaf0&gt;),\n",
              "                                (&#x27;pipeline-2&#x27;,\n",
              "                                 Pipeline(steps=[(&#x27;simpleimputer&#x27;,\n",
              "                                                  SimpleImputer(strategy=&#x27;most_frequent&#x27;)),\n",
              "                                                 (&#x27;onehotencoder&#x27;,\n",
              "                                                  OneHotEncoder(handle_unknown=&#x27;ignore&#x27;,\n",
              "                                                                sparse=False))]),\n",
              "                                 &lt;sklearn.compose._column_transformer.make_column_selector object at 0x7f620facfbb0&gt;)])</pre><b>Please rerun this cell to show the HTML repr or trust the notebook.</b></div><div class=\"sk-container\" hidden><div class=\"sk-item sk-dashed-wrapped\"><div class=\"sk-label-container\"><div class=\"sk-label sk-toggleable\"><input class=\"sk-toggleable__control sk-hidden--visually\" id=\"30a90e8e-f228-4bc8-a579-025342845f3a\" type=\"checkbox\" ><label for=\"30a90e8e-f228-4bc8-a579-025342845f3a\" class=\"sk-toggleable__label sk-toggleable__label-arrow\">ColumnTransformer</label><div class=\"sk-toggleable__content\"><pre>ColumnTransformer(transformers=[(&#x27;pipeline-1&#x27;,\n",
              "                                 Pipeline(steps=[(&#x27;simpleimputer&#x27;,\n",
              "                                                  SimpleImputer())]),\n",
              "                                 &lt;sklearn.compose._column_transformer.make_column_selector object at 0x7f620facfaf0&gt;),\n",
              "                                (&#x27;pipeline-2&#x27;,\n",
              "                                 Pipeline(steps=[(&#x27;simpleimputer&#x27;,\n",
              "                                                  SimpleImputer(strategy=&#x27;most_frequent&#x27;)),\n",
              "                                                 (&#x27;onehotencoder&#x27;,\n",
              "                                                  OneHotEncoder(handle_unknown=&#x27;ignore&#x27;,\n",
              "                                                                sparse=False))]),\n",
              "                                 &lt;sklearn.compose._column_transformer.make_column_selector object at 0x7f620facfbb0&gt;)])</pre></div></div></div><div class=\"sk-parallel\"><div class=\"sk-parallel-item\"><div class=\"sk-item\"><div class=\"sk-label-container\"><div class=\"sk-label sk-toggleable\"><input class=\"sk-toggleable__control sk-hidden--visually\" id=\"9c7d0ba5-647f-4368-8407-7e6b96a23a17\" type=\"checkbox\" ><label for=\"9c7d0ba5-647f-4368-8407-7e6b96a23a17\" class=\"sk-toggleable__label sk-toggleable__label-arrow\">pipeline-1</label><div class=\"sk-toggleable__content\"><pre>&lt;sklearn.compose._column_transformer.make_column_selector object at 0x7f620facfaf0&gt;</pre></div></div></div><div class=\"sk-serial\"><div class=\"sk-item\"><div class=\"sk-serial\"><div class=\"sk-item\"><div class=\"sk-estimator sk-toggleable\"><input class=\"sk-toggleable__control sk-hidden--visually\" id=\"c5101b64-b145-4406-911b-3b6ddd846558\" type=\"checkbox\" ><label for=\"c5101b64-b145-4406-911b-3b6ddd846558\" class=\"sk-toggleable__label sk-toggleable__label-arrow\">SimpleImputer</label><div class=\"sk-toggleable__content\"><pre>SimpleImputer()</pre></div></div></div></div></div></div></div></div><div class=\"sk-parallel-item\"><div class=\"sk-item\"><div class=\"sk-label-container\"><div class=\"sk-label sk-toggleable\"><input class=\"sk-toggleable__control sk-hidden--visually\" id=\"9e2694de-6610-4964-ab6e-195fd45ffd5c\" type=\"checkbox\" ><label for=\"9e2694de-6610-4964-ab6e-195fd45ffd5c\" class=\"sk-toggleable__label sk-toggleable__label-arrow\">pipeline-2</label><div class=\"sk-toggleable__content\"><pre>&lt;sklearn.compose._column_transformer.make_column_selector object at 0x7f620facfbb0&gt;</pre></div></div></div><div class=\"sk-serial\"><div class=\"sk-item\"><div class=\"sk-serial\"><div class=\"sk-item\"><div class=\"sk-estimator sk-toggleable\"><input class=\"sk-toggleable__control sk-hidden--visually\" id=\"4758bf7a-2d9a-4385-9f76-f0437188e51d\" type=\"checkbox\" ><label for=\"4758bf7a-2d9a-4385-9f76-f0437188e51d\" class=\"sk-toggleable__label sk-toggleable__label-arrow\">SimpleImputer</label><div class=\"sk-toggleable__content\"><pre>SimpleImputer(strategy=&#x27;most_frequent&#x27;)</pre></div></div></div><div class=\"sk-item\"><div class=\"sk-estimator sk-toggleable\"><input class=\"sk-toggleable__control sk-hidden--visually\" id=\"0f42bcc5-b6e0-43cc-8610-6fafc7cc6219\" type=\"checkbox\" ><label for=\"0f42bcc5-b6e0-43cc-8610-6fafc7cc6219\" class=\"sk-toggleable__label sk-toggleable__label-arrow\">OneHotEncoder</label><div class=\"sk-toggleable__content\"><pre>OneHotEncoder(handle_unknown=&#x27;ignore&#x27;, sparse=False)</pre></div></div></div></div></div></div></div></div></div></div></div></div>"
            ]
          },
          "metadata": {},
          "execution_count": 12
        }
      ]
    },
    {
      "cell_type": "code",
      "source": [
        "#Transformar los datos\n",
        "X_train_processed = preprocessor.transform(X_train)\n",
        "X_test_processed  = preprocessor.transform(X_test)"
      ],
      "metadata": {
        "id": "GTWCVL51GWXB"
      },
      "execution_count": 13,
      "outputs": []
    },
    {
      "cell_type": "code",
      "source": [
        "# Comprueben los valores faltantes y tengan una codificación one-hot\n",
        "print(np.isnan(X_train_processed).sum().sum(), 'missing values in training data')\n",
        "print(np.isnan(X_test_processed).sum().sum(), 'missing values in testing data')\n",
        "print('\\n')\n",
        "print('All data in X_train_processed are', X_train_processed.dtype)\n",
        "print('All data in X_test_processed are', X_test_processed.dtype)\n",
        "print('\\n')\n",
        "print('shape of data is', X_train_processed.shape)\n",
        "print('\\n')\n",
        "X_train_processed"
      ],
      "metadata": {
        "colab": {
          "base_uri": "https://localhost:8080/"
        },
        "id": "_T4sddHCGYtf",
        "outputId": "e9b4c990-8877-433f-99f5-4a27e6c79894"
      },
      "execution_count": 14,
      "outputs": [
        {
          "output_type": "stream",
          "name": "stdout",
          "text": [
            "0 missing values in training data\n",
            "0 missing values in testing data\n",
            "\n",
            "\n",
            "All data in X_train_processed are float64\n",
            "All data in X_test_processed are float64\n",
            "\n",
            "\n",
            "shape of data is (6392, 42)\n",
            "\n",
            "\n"
          ]
        },
        {
          "output_type": "execute_result",
          "data": {
            "text/plain": [
              "array([[1.63500000e+01, 2.95653090e-02, 2.56464600e+02, ...,\n",
              "        0.00000000e+00, 1.00000000e+00, 0.00000000e+00],\n",
              "       [1.52500000e+01, 0.00000000e+00, 1.79766000e+02, ...,\n",
              "        0.00000000e+00, 1.00000000e+00, 0.00000000e+00],\n",
              "       [1.23500000e+01, 1.58715731e-01, 1.57294600e+02, ...,\n",
              "        1.00000000e+00, 0.00000000e+00, 0.00000000e+00],\n",
              "       ...,\n",
              "       [1.76000000e+01, 1.89436660e-02, 2.37359000e+02, ...,\n",
              "        1.00000000e+00, 0.00000000e+00, 0.00000000e+00],\n",
              "       [2.03500000e+01, 5.43626950e-02, 1.17946600e+02, ...,\n",
              "        1.00000000e+00, 0.00000000e+00, 0.00000000e+00],\n",
              "       [1.63500000e+01, 1.69932040e-02, 9.57410000e+01, ...,\n",
              "        1.00000000e+00, 0.00000000e+00, 0.00000000e+00]])"
            ]
          },
          "metadata": {},
          "execution_count": 14
        }
      ]
    },
    {
      "cell_type": "code",
      "source": [
        "#Transformar de Numpy Array a DataFrame\n",
        "X_train = pd.DataFrame(X_train_processed)\n",
        "X_test = pd.DataFrame(X_test_processed)"
      ],
      "metadata": {
        "id": "d5uOnTIdGbYM"
      },
      "execution_count": 15,
      "outputs": []
    },
    {
      "cell_type": "markdown",
      "source": [
        "## **Modelo de regresión lineal**\n",
        "\n",
        "\n",
        "1.   La primera tarea será crear un modelo de regresión lineal para predecir las ventas."
      ],
      "metadata": {
        "id": "PSEuhxuyH_5N"
      }
    },
    {
      "cell_type": "code",
      "source": [
        "#Instanciar la regresión lineal\n",
        "reg = LinearRegression()"
      ],
      "metadata": {
        "id": "-JbbSOVAGrMk"
      },
      "execution_count": 16,
      "outputs": []
    },
    {
      "cell_type": "code",
      "source": [
        "#Entrenar el modelo \n",
        "reg.fit(X_train,y_train)"
      ],
      "metadata": {
        "colab": {
          "base_uri": "https://localhost:8080/",
          "height": 75
        },
        "id": "exck80JoIYRT",
        "outputId": "53fd2f7e-d013-4688-f2a5-ae917b288445"
      },
      "execution_count": 17,
      "outputs": [
        {
          "output_type": "execute_result",
          "data": {
            "text/plain": [
              "LinearRegression()"
            ],
            "text/html": [
              "<style>#sk-ad18f081-9fb5-4637-bbda-5110c98012ef {color: black;background-color: white;}#sk-ad18f081-9fb5-4637-bbda-5110c98012ef pre{padding: 0;}#sk-ad18f081-9fb5-4637-bbda-5110c98012ef div.sk-toggleable {background-color: white;}#sk-ad18f081-9fb5-4637-bbda-5110c98012ef label.sk-toggleable__label {cursor: pointer;display: block;width: 100%;margin-bottom: 0;padding: 0.3em;box-sizing: border-box;text-align: center;}#sk-ad18f081-9fb5-4637-bbda-5110c98012ef label.sk-toggleable__label-arrow:before {content: \"▸\";float: left;margin-right: 0.25em;color: #696969;}#sk-ad18f081-9fb5-4637-bbda-5110c98012ef label.sk-toggleable__label-arrow:hover:before {color: black;}#sk-ad18f081-9fb5-4637-bbda-5110c98012ef div.sk-estimator:hover label.sk-toggleable__label-arrow:before {color: black;}#sk-ad18f081-9fb5-4637-bbda-5110c98012ef div.sk-toggleable__content {max-height: 0;max-width: 0;overflow: hidden;text-align: left;background-color: #f0f8ff;}#sk-ad18f081-9fb5-4637-bbda-5110c98012ef div.sk-toggleable__content pre {margin: 0.2em;color: black;border-radius: 0.25em;background-color: #f0f8ff;}#sk-ad18f081-9fb5-4637-bbda-5110c98012ef input.sk-toggleable__control:checked~div.sk-toggleable__content {max-height: 200px;max-width: 100%;overflow: auto;}#sk-ad18f081-9fb5-4637-bbda-5110c98012ef input.sk-toggleable__control:checked~label.sk-toggleable__label-arrow:before {content: \"▾\";}#sk-ad18f081-9fb5-4637-bbda-5110c98012ef div.sk-estimator input.sk-toggleable__control:checked~label.sk-toggleable__label {background-color: #d4ebff;}#sk-ad18f081-9fb5-4637-bbda-5110c98012ef div.sk-label input.sk-toggleable__control:checked~label.sk-toggleable__label {background-color: #d4ebff;}#sk-ad18f081-9fb5-4637-bbda-5110c98012ef input.sk-hidden--visually {border: 0;clip: rect(1px 1px 1px 1px);clip: rect(1px, 1px, 1px, 1px);height: 1px;margin: -1px;overflow: hidden;padding: 0;position: absolute;width: 1px;}#sk-ad18f081-9fb5-4637-bbda-5110c98012ef div.sk-estimator {font-family: monospace;background-color: #f0f8ff;border: 1px dotted black;border-radius: 0.25em;box-sizing: border-box;margin-bottom: 0.5em;}#sk-ad18f081-9fb5-4637-bbda-5110c98012ef div.sk-estimator:hover {background-color: #d4ebff;}#sk-ad18f081-9fb5-4637-bbda-5110c98012ef div.sk-parallel-item::after {content: \"\";width: 100%;border-bottom: 1px solid gray;flex-grow: 1;}#sk-ad18f081-9fb5-4637-bbda-5110c98012ef div.sk-label:hover label.sk-toggleable__label {background-color: #d4ebff;}#sk-ad18f081-9fb5-4637-bbda-5110c98012ef div.sk-serial::before {content: \"\";position: absolute;border-left: 1px solid gray;box-sizing: border-box;top: 2em;bottom: 0;left: 50%;}#sk-ad18f081-9fb5-4637-bbda-5110c98012ef div.sk-serial {display: flex;flex-direction: column;align-items: center;background-color: white;padding-right: 0.2em;padding-left: 0.2em;}#sk-ad18f081-9fb5-4637-bbda-5110c98012ef div.sk-item {z-index: 1;}#sk-ad18f081-9fb5-4637-bbda-5110c98012ef div.sk-parallel {display: flex;align-items: stretch;justify-content: center;background-color: white;}#sk-ad18f081-9fb5-4637-bbda-5110c98012ef div.sk-parallel::before {content: \"\";position: absolute;border-left: 1px solid gray;box-sizing: border-box;top: 2em;bottom: 0;left: 50%;}#sk-ad18f081-9fb5-4637-bbda-5110c98012ef div.sk-parallel-item {display: flex;flex-direction: column;position: relative;background-color: white;}#sk-ad18f081-9fb5-4637-bbda-5110c98012ef div.sk-parallel-item:first-child::after {align-self: flex-end;width: 50%;}#sk-ad18f081-9fb5-4637-bbda-5110c98012ef div.sk-parallel-item:last-child::after {align-self: flex-start;width: 50%;}#sk-ad18f081-9fb5-4637-bbda-5110c98012ef div.sk-parallel-item:only-child::after {width: 0;}#sk-ad18f081-9fb5-4637-bbda-5110c98012ef div.sk-dashed-wrapped {border: 1px dashed gray;margin: 0 0.4em 0.5em 0.4em;box-sizing: border-box;padding-bottom: 0.4em;background-color: white;position: relative;}#sk-ad18f081-9fb5-4637-bbda-5110c98012ef div.sk-label label {font-family: monospace;font-weight: bold;background-color: white;display: inline-block;line-height: 1.2em;}#sk-ad18f081-9fb5-4637-bbda-5110c98012ef div.sk-label-container {position: relative;z-index: 2;text-align: center;}#sk-ad18f081-9fb5-4637-bbda-5110c98012ef div.sk-container {/* jupyter's `normalize.less` sets `[hidden] { display: none; }` but bootstrap.min.css set `[hidden] { display: none !important; }` so we also need the `!important` here to be able to override the default hidden behavior on the sphinx rendered scikit-learn.org. See: https://github.com/scikit-learn/scikit-learn/issues/21755 */display: inline-block !important;position: relative;}#sk-ad18f081-9fb5-4637-bbda-5110c98012ef div.sk-text-repr-fallback {display: none;}</style><div id=\"sk-ad18f081-9fb5-4637-bbda-5110c98012ef\" class=\"sk-top-container\"><div class=\"sk-text-repr-fallback\"><pre>LinearRegression()</pre><b>Please rerun this cell to show the HTML repr or trust the notebook.</b></div><div class=\"sk-container\" hidden><div class=\"sk-item\"><div class=\"sk-estimator sk-toggleable\"><input class=\"sk-toggleable__control sk-hidden--visually\" id=\"5953e5be-02f1-40ce-b65a-951f27718015\" type=\"checkbox\" checked><label for=\"5953e5be-02f1-40ce-b65a-951f27718015\" class=\"sk-toggleable__label sk-toggleable__label-arrow\">LinearRegression</label><div class=\"sk-toggleable__content\"><pre>LinearRegression()</pre></div></div></div></div></div>"
            ]
          },
          "metadata": {},
          "execution_count": 17
        }
      ]
    },
    {
      "cell_type": "code",
      "source": [
        "#Predicciones del modelo \n",
        "train_preds = reg.predict(X_train)\n",
        "test_preds = reg.predict(X_test)"
      ],
      "metadata": {
        "id": "SdJeZCj-Iffr"
      },
      "execution_count": 18,
      "outputs": []
    },
    {
      "cell_type": "markdown",
      "source": [
        "Evalúen el rendimiento del modelo basándose en $R^2$"
      ],
      "metadata": {
        "id": "YeI5xAQvN8rk"
      }
    },
    {
      "cell_type": "code",
      "source": [
        "#Rendimiento evaluado con R^2\n",
        "r2_train = r2_score(y_train, train_preds)\n",
        "r2_test  = r2_score(y_test, test_preds)\n",
        "print(r2_train)\n",
        "print(r2_test)"
      ],
      "metadata": {
        "colab": {
          "base_uri": "https://localhost:8080/"
        },
        "id": "kBfByJozIxjI",
        "outputId": "7a48356d-c206-4773-f06d-a264a221e6b3"
      },
      "execution_count": 19,
      "outputs": [
        {
          "output_type": "stream",
          "name": "stdout",
          "text": [
            "0.5615551419174629\n",
            "0.5671041872384911\n"
          ]
        }
      ]
    },
    {
      "cell_type": "markdown",
      "source": [
        "Evalúen el rendimiento del modelo basándose en RECM"
      ],
      "metadata": {
        "id": "SlljTFnoN_Lc"
      }
    },
    {
      "cell_type": "code",
      "source": [
        "rmse_train = np.sqrt(mean_squared_error(y_train, train_preds))\n",
        "rmse_test = np.sqrt(mean_squared_error(y_test, test_preds))\n",
        "print(rmse_train)\n",
        "print(rmse_test)"
      ],
      "metadata": {
        "colab": {
          "base_uri": "https://localhost:8080/"
        },
        "id": "tYP3myEdJBKQ",
        "outputId": "02697c73-bf66-4b40-c2eb-06e371da48f4"
      },
      "execution_count": 20,
      "outputs": [
        {
          "output_type": "stream",
          "name": "stdout",
          "text": [
            "1139.1040937388918\n",
            "1092.8630817241497\n"
          ]
        }
      ]
    },
    {
      "cell_type": "markdown",
      "source": [
        "## **Modelo de árbol de regresión**"
      ],
      "metadata": {
        "id": "_pUvw8ymPRQ4"
      }
    },
    {
      "cell_type": "code",
      "source": [
        "#Instanciar el modelo\n",
        "dec_tree = DecisionTreeRegressor(random_state = 42)"
      ],
      "metadata": {
        "id": "-3s8v4AwOJUo"
      },
      "execution_count": 21,
      "outputs": []
    },
    {
      "cell_type": "code",
      "source": [
        "#Entrenar el modelo\n",
        "dec_tree.fit(X_train, y_train)"
      ],
      "metadata": {
        "colab": {
          "base_uri": "https://localhost:8080/",
          "height": 75
        },
        "id": "CYOTE8-aPH9-",
        "outputId": "700ad203-d623-474b-dc75-a58189851b07"
      },
      "execution_count": 22,
      "outputs": [
        {
          "output_type": "execute_result",
          "data": {
            "text/plain": [
              "DecisionTreeRegressor(random_state=42)"
            ],
            "text/html": [
              "<style>#sk-d9b94d13-0329-4a07-9ccf-a53104f67121 {color: black;background-color: white;}#sk-d9b94d13-0329-4a07-9ccf-a53104f67121 pre{padding: 0;}#sk-d9b94d13-0329-4a07-9ccf-a53104f67121 div.sk-toggleable {background-color: white;}#sk-d9b94d13-0329-4a07-9ccf-a53104f67121 label.sk-toggleable__label {cursor: pointer;display: block;width: 100%;margin-bottom: 0;padding: 0.3em;box-sizing: border-box;text-align: center;}#sk-d9b94d13-0329-4a07-9ccf-a53104f67121 label.sk-toggleable__label-arrow:before {content: \"▸\";float: left;margin-right: 0.25em;color: #696969;}#sk-d9b94d13-0329-4a07-9ccf-a53104f67121 label.sk-toggleable__label-arrow:hover:before {color: black;}#sk-d9b94d13-0329-4a07-9ccf-a53104f67121 div.sk-estimator:hover label.sk-toggleable__label-arrow:before {color: black;}#sk-d9b94d13-0329-4a07-9ccf-a53104f67121 div.sk-toggleable__content {max-height: 0;max-width: 0;overflow: hidden;text-align: left;background-color: #f0f8ff;}#sk-d9b94d13-0329-4a07-9ccf-a53104f67121 div.sk-toggleable__content pre {margin: 0.2em;color: black;border-radius: 0.25em;background-color: #f0f8ff;}#sk-d9b94d13-0329-4a07-9ccf-a53104f67121 input.sk-toggleable__control:checked~div.sk-toggleable__content {max-height: 200px;max-width: 100%;overflow: auto;}#sk-d9b94d13-0329-4a07-9ccf-a53104f67121 input.sk-toggleable__control:checked~label.sk-toggleable__label-arrow:before {content: \"▾\";}#sk-d9b94d13-0329-4a07-9ccf-a53104f67121 div.sk-estimator input.sk-toggleable__control:checked~label.sk-toggleable__label {background-color: #d4ebff;}#sk-d9b94d13-0329-4a07-9ccf-a53104f67121 div.sk-label input.sk-toggleable__control:checked~label.sk-toggleable__label {background-color: #d4ebff;}#sk-d9b94d13-0329-4a07-9ccf-a53104f67121 input.sk-hidden--visually {border: 0;clip: rect(1px 1px 1px 1px);clip: rect(1px, 1px, 1px, 1px);height: 1px;margin: -1px;overflow: hidden;padding: 0;position: absolute;width: 1px;}#sk-d9b94d13-0329-4a07-9ccf-a53104f67121 div.sk-estimator {font-family: monospace;background-color: #f0f8ff;border: 1px dotted black;border-radius: 0.25em;box-sizing: border-box;margin-bottom: 0.5em;}#sk-d9b94d13-0329-4a07-9ccf-a53104f67121 div.sk-estimator:hover {background-color: #d4ebff;}#sk-d9b94d13-0329-4a07-9ccf-a53104f67121 div.sk-parallel-item::after {content: \"\";width: 100%;border-bottom: 1px solid gray;flex-grow: 1;}#sk-d9b94d13-0329-4a07-9ccf-a53104f67121 div.sk-label:hover label.sk-toggleable__label {background-color: #d4ebff;}#sk-d9b94d13-0329-4a07-9ccf-a53104f67121 div.sk-serial::before {content: \"\";position: absolute;border-left: 1px solid gray;box-sizing: border-box;top: 2em;bottom: 0;left: 50%;}#sk-d9b94d13-0329-4a07-9ccf-a53104f67121 div.sk-serial {display: flex;flex-direction: column;align-items: center;background-color: white;padding-right: 0.2em;padding-left: 0.2em;}#sk-d9b94d13-0329-4a07-9ccf-a53104f67121 div.sk-item {z-index: 1;}#sk-d9b94d13-0329-4a07-9ccf-a53104f67121 div.sk-parallel {display: flex;align-items: stretch;justify-content: center;background-color: white;}#sk-d9b94d13-0329-4a07-9ccf-a53104f67121 div.sk-parallel::before {content: \"\";position: absolute;border-left: 1px solid gray;box-sizing: border-box;top: 2em;bottom: 0;left: 50%;}#sk-d9b94d13-0329-4a07-9ccf-a53104f67121 div.sk-parallel-item {display: flex;flex-direction: column;position: relative;background-color: white;}#sk-d9b94d13-0329-4a07-9ccf-a53104f67121 div.sk-parallel-item:first-child::after {align-self: flex-end;width: 50%;}#sk-d9b94d13-0329-4a07-9ccf-a53104f67121 div.sk-parallel-item:last-child::after {align-self: flex-start;width: 50%;}#sk-d9b94d13-0329-4a07-9ccf-a53104f67121 div.sk-parallel-item:only-child::after {width: 0;}#sk-d9b94d13-0329-4a07-9ccf-a53104f67121 div.sk-dashed-wrapped {border: 1px dashed gray;margin: 0 0.4em 0.5em 0.4em;box-sizing: border-box;padding-bottom: 0.4em;background-color: white;position: relative;}#sk-d9b94d13-0329-4a07-9ccf-a53104f67121 div.sk-label label {font-family: monospace;font-weight: bold;background-color: white;display: inline-block;line-height: 1.2em;}#sk-d9b94d13-0329-4a07-9ccf-a53104f67121 div.sk-label-container {position: relative;z-index: 2;text-align: center;}#sk-d9b94d13-0329-4a07-9ccf-a53104f67121 div.sk-container {/* jupyter's `normalize.less` sets `[hidden] { display: none; }` but bootstrap.min.css set `[hidden] { display: none !important; }` so we also need the `!important` here to be able to override the default hidden behavior on the sphinx rendered scikit-learn.org. See: https://github.com/scikit-learn/scikit-learn/issues/21755 */display: inline-block !important;position: relative;}#sk-d9b94d13-0329-4a07-9ccf-a53104f67121 div.sk-text-repr-fallback {display: none;}</style><div id=\"sk-d9b94d13-0329-4a07-9ccf-a53104f67121\" class=\"sk-top-container\"><div class=\"sk-text-repr-fallback\"><pre>DecisionTreeRegressor(random_state=42)</pre><b>Please rerun this cell to show the HTML repr or trust the notebook.</b></div><div class=\"sk-container\" hidden><div class=\"sk-item\"><div class=\"sk-estimator sk-toggleable\"><input class=\"sk-toggleable__control sk-hidden--visually\" id=\"8ad2a63b-b795-4b19-be4f-3bf91621ac95\" type=\"checkbox\" checked><label for=\"8ad2a63b-b795-4b19-be4f-3bf91621ac95\" class=\"sk-toggleable__label sk-toggleable__label-arrow\">DecisionTreeRegressor</label><div class=\"sk-toggleable__content\"><pre>DecisionTreeRegressor(random_state=42)</pre></div></div></div></div></div>"
            ]
          },
          "metadata": {},
          "execution_count": 22
        }
      ]
    },
    {
      "cell_type": "code",
      "source": [
        "#Predicciones del modelo\n",
        "train_preds = dec_tree.predict(X_train)\n",
        "test_preds = dec_tree.predict(X_test)"
      ],
      "metadata": {
        "id": "ZxBNqBqRPs8t"
      },
      "execution_count": 23,
      "outputs": []
    },
    {
      "cell_type": "markdown",
      "source": [
        "Evalúen el rendimiento del modelo basándose en $R^2$"
      ],
      "metadata": {
        "id": "tP0NTtzeQBHU"
      }
    },
    {
      "cell_type": "code",
      "source": [
        "#Rendimiento del modelo evaluado en R^2\n",
        "train_score = dec_tree.score(X_train, y_train)\n",
        "test_score = dec_tree.score(X_test, y_test)\n",
        "print(train_score)\n",
        "print(test_score)"
      ],
      "metadata": {
        "colab": {
          "base_uri": "https://localhost:8080/"
        },
        "id": "eKrjWTwtPxo5",
        "outputId": "48fc6e7f-19fd-4a4b-f823-92f54eb7ffe5"
      },
      "execution_count": 24,
      "outputs": [
        {
          "output_type": "stream",
          "name": "stdout",
          "text": [
            "1.0\n",
            "0.18408602434746324\n"
          ]
        }
      ]
    },
    {
      "cell_type": "markdown",
      "source": [
        "Observamos que el modelo está sobreajustado. Vamos a ajustar el modelo."
      ],
      "metadata": {
        "id": "k-QtDE6OQFK3"
      }
    },
    {
      "cell_type": "code",
      "source": [
        "#Profundidad del árbol\n",
        "dec_tree.get_depth()"
      ],
      "metadata": {
        "colab": {
          "base_uri": "https://localhost:8080/"
        },
        "id": "EvjJiqd-QCK0",
        "outputId": "32499d16-7fa8-42c4-d0a9-6cb0b40a58f7"
      },
      "execution_count": 25,
      "outputs": [
        {
          "output_type": "execute_result",
          "data": {
            "text/plain": [
              "40"
            ]
          },
          "metadata": {},
          "execution_count": 25
        }
      ]
    },
    {
      "cell_type": "code",
      "source": [
        "#Calculemos el valor optimo para max_depth\n",
        "# Lista de valores a probar para max_depth:\n",
        "max_depth_range = list(range(2, 40))\n",
        "# Lista para almacenar la puntuación para cada valor de max_depth:\n",
        "r2 = []\n",
        "for depth in max_depth_range:\n",
        "    dec_tree = DecisionTreeRegressor(max_depth = depth, \n",
        "                             random_state = 42)\n",
        "    dec_tree.fit(X_train, y_train)\n",
        "    score = dec_tree.score(X_test, y_test)\n",
        "    r2.append(score)"
      ],
      "metadata": {
        "id": "JffRiunmQLnH"
      },
      "execution_count": 26,
      "outputs": []
    },
    {
      "cell_type": "code",
      "source": [
        "# Visualiza qué max_depth lleva a una puntuación R2 más alta\n",
        "import matplotlib.pyplot as plt\n",
        "plt.plot(max_depth_range, r2)\n",
        "plt.xlabel('max_depth')\n",
        "plt.ylabel('R2');"
      ],
      "metadata": {
        "colab": {
          "base_uri": "https://localhost:8080/",
          "height": 280
        },
        "id": "HGW8U3_PQcrq",
        "outputId": "e2bfda33-5fa8-45d3-f85b-ef7d74cfc203"
      },
      "execution_count": 27,
      "outputs": [
        {
          "output_type": "display_data",
          "data": {
            "text/plain": [
              "<Figure size 432x288 with 1 Axes>"
            ],
            "image/png": "[encoded data removed]"
          },
          "metadata": {
            "needs_background": "light"
          }
        }
      ]
    },
    {
      "cell_type": "code",
      "source": [
        "# Ejecutemos el modelo con nuestro valor optimizado para max_depth\n",
        "dec_tree_5 = DecisionTreeRegressor(max_depth = 5, random_state = 42)\n",
        "dec_tree_5.fit(X_train, y_train)\n",
        "train_5_score = dec_tree_5.score(X_train, y_train)\n",
        "test_5_score = dec_tree_5.score(X_test, y_test)\n",
        "print(train_5_score)\n",
        "print(test_5_score)"
      ],
      "metadata": {
        "colab": {
          "base_uri": "https://localhost:8080/"
        },
        "id": "v5q_qDGjQg1b",
        "outputId": "6ffdc713-311f-40e1-f69b-317fecde6f53"
      },
      "execution_count": 28,
      "outputs": [
        {
          "output_type": "stream",
          "name": "stdout",
          "text": [
            "0.6039397477322956\n",
            "0.5947099753159972\n"
          ]
        }
      ]
    },
    {
      "cell_type": "markdown",
      "source": [
        "Mejora bastante el rendimiento del modelo. "
      ],
      "metadata": {
        "id": "8cKEuHCUQwBN"
      }
    },
    {
      "cell_type": "markdown",
      "source": [
        "Evalúen el rendimiento del modelo basándose en RECM"
      ],
      "metadata": {
        "id": "15oiZnObQ20l"
      }
    },
    {
      "cell_type": "code",
      "source": [
        "train_preds = dec_tree_5.predict(X_train)\n",
        "test_preds = dec_tree_5.predict(X_test)\n",
        "rmse_train = np.sqrt(mean_squared_error(y_train, train_preds))\n",
        "rmse_test = np.sqrt(mean_squared_error(y_test, test_preds))\n",
        "print(rmse_train)\n",
        "print(rmse_test)"
      ],
      "metadata": {
        "colab": {
          "base_uri": "https://localhost:8080/"
        },
        "id": "2hRCi7BSQq2Y",
        "outputId": "f68d5668-bbf1-4240-e7c8-9eab4a71bf0f"
      },
      "execution_count": 30,
      "outputs": [
        {
          "output_type": "stream",
          "name": "stdout",
          "text": [
            "1082.6461900869947\n",
            "1057.4431299496734\n"
          ]
        }
      ]
    },
    {
      "cell_type": "markdown",
      "source": [
        "## **Determinar qué modelo implementar**\n",
        "\n",
        "En general, ¿qué modelo recomiendan?\n",
        "\n",
        "Basada en los valores de rendimiento, tanto para el conjunto de entrenamiento como para el conjunto de prueba, recomiento usar el modelo de árbol de decisión para este conjunto de datos. Este modelo muestra un mejor rendimiento, tanto si es determinado con $R^2$ como con RECM. "
      ],
      "metadata": {
        "id": "GbG2_wmWSZcX"
      }
    }
  ]
}